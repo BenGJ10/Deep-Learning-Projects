{
 "cells": [
  {
   "cell_type": "markdown",
   "id": "1230de6a",
   "metadata": {},
   "source": [
    "# IMDB Movie Sentiment Analysis using RNN and LSTM RNN"
   ]
  },
  {
   "cell_type": "markdown",
   "id": "39993e33",
   "metadata": {},
   "source": [
    "## Introduction\n",
    "\n",
    "Sentiment analysis is a key task in Natural Language Processing (NLP) that aims to determine whether a given piece of text expresses a \n",
    "positive, negative, or neutral sentiment. One of the most widely used benchmark datasets for sentiment classification is the `IMDB Movie Review Dataset`, which contains 50,000 highly polarized movie reviews (25,000 for training and 25,000 for testing), labeled as positive or negative.\n",
    "\n",
    "**The goal of this project is to build a deep learning model that can automatically classify the sentiment of a movie review as either positive or negative.**"
   ]
  },
  {
   "cell_type": "markdown",
   "id": "9912669e",
   "metadata": {},
   "source": [
    "## Why Recurrent Neural Networks (RNNs)?\n",
    "\n",
    "Unlike traditional machine learning models, `Recurrent Neural Networks (RNNs)` are designed to handle sequential data, making them highly effective for text analysis. In natural language, the meaning of a word often depends on the words that precede or follow it. RNNs capture these dependencies and context by maintaining a hidden state that gets updated as they process each token in the sequence.\n",
    "\n",
    "For example:\n",
    "\n",
    "- \"The movie was great.\" → Positive sentiment\n",
    "\n",
    "- \"The movie was not great.\" → Negative sentiment\n",
    "\n",
    "Here, the presence of \"not\" changes the meaning of \"great.\" RNNs are capable of learning such contextual relationships, unlike simpler models like bag-of-words or logistic regression."
   ]
  },
  {
   "cell_type": "markdown",
   "id": "3f9b58b3",
   "metadata": {},
   "source": [
    "## Problem Statement\n",
    "\n",
    "Given a dataset of IMDB movie reviews labeled as positive or negative, build a Recurrent Neural Network-based sentiment analysis model that can accurately predict the sentiment of a review."
   ]
  },
  {
   "cell_type": "code",
   "execution_count": 1,
   "id": "a2aca775",
   "metadata": {},
   "outputs": [],
   "source": [
    "# Importing required libraries\n",
    "\n",
    "import re\n",
    "import nltk\n",
    "import numpy as np\n",
    "import pandas as pd\n",
    "import tensorflow as tf\n",
    "import matplotlib.pyplot as plt\n",
    "import seaborn as sns"
   ]
  },
  {
   "cell_type": "code",
   "execution_count": 2,
   "id": "ddfdaa56",
   "metadata": {},
   "outputs": [
    {
     "data": {
      "text/html": [
       "<div>\n",
       "<style scoped>\n",
       "    .dataframe tbody tr th:only-of-type {\n",
       "        vertical-align: middle;\n",
       "    }\n",
       "\n",
       "    .dataframe tbody tr th {\n",
       "        vertical-align: top;\n",
       "    }\n",
       "\n",
       "    .dataframe thead th {\n",
       "        text-align: right;\n",
       "    }\n",
       "</style>\n",
       "<table border=\"1\" class=\"dataframe\">\n",
       "  <thead>\n",
       "    <tr style=\"text-align: right;\">\n",
       "      <th></th>\n",
       "      <th>review</th>\n",
       "      <th>sentiment</th>\n",
       "    </tr>\n",
       "  </thead>\n",
       "  <tbody>\n",
       "    <tr>\n",
       "      <th>0</th>\n",
       "      <td>One of the other reviewers has mentioned that ...</td>\n",
       "      <td>positive</td>\n",
       "    </tr>\n",
       "    <tr>\n",
       "      <th>1</th>\n",
       "      <td>A wonderful little production. &lt;br /&gt;&lt;br /&gt;The...</td>\n",
       "      <td>positive</td>\n",
       "    </tr>\n",
       "    <tr>\n",
       "      <th>2</th>\n",
       "      <td>I thought this was a wonderful way to spend ti...</td>\n",
       "      <td>positive</td>\n",
       "    </tr>\n",
       "    <tr>\n",
       "      <th>3</th>\n",
       "      <td>Basically there's a family where a little boy ...</td>\n",
       "      <td>negative</td>\n",
       "    </tr>\n",
       "    <tr>\n",
       "      <th>4</th>\n",
       "      <td>Petter Mattei's \"Love in the Time of Money\" is...</td>\n",
       "      <td>positive</td>\n",
       "    </tr>\n",
       "  </tbody>\n",
       "</table>\n",
       "</div>"
      ],
      "text/plain": [
       "                                              review sentiment\n",
       "0  One of the other reviewers has mentioned that ...  positive\n",
       "1  A wonderful little production. <br /><br />The...  positive\n",
       "2  I thought this was a wonderful way to spend ti...  positive\n",
       "3  Basically there's a family where a little boy ...  negative\n",
       "4  Petter Mattei's \"Love in the Time of Money\" is...  positive"
      ]
     },
     "execution_count": 2,
     "metadata": {},
     "output_type": "execute_result"
    }
   ],
   "source": [
    "data = pd.read_csv('dataset/IMDB Dataset.csv')\n",
    "data.head()"
   ]
  },
  {
   "cell_type": "code",
   "execution_count": 3,
   "id": "daeb3057",
   "metadata": {},
   "outputs": [
    {
     "data": {
      "text/plain": [
       "(50000, 2)"
      ]
     },
     "execution_count": 3,
     "metadata": {},
     "output_type": "execute_result"
    }
   ],
   "source": [
    "data.shape"
   ]
  },
  {
   "cell_type": "code",
   "execution_count": 4,
   "id": "5c8e9a9d",
   "metadata": {},
   "outputs": [
    {
     "name": "stdout",
     "output_type": "stream",
     "text": [
      "<class 'pandas.core.frame.DataFrame'>\n",
      "RangeIndex: 50000 entries, 0 to 49999\n",
      "Data columns (total 2 columns):\n",
      " #   Column     Non-Null Count  Dtype \n",
      "---  ------     --------------  ----- \n",
      " 0   review     50000 non-null  object\n",
      " 1   sentiment  50000 non-null  object\n",
      "dtypes: object(2)\n",
      "memory usage: 781.4+ KB\n"
     ]
    }
   ],
   "source": [
    "data.info()"
   ]
  },
  {
   "cell_type": "code",
   "execution_count": 5,
   "id": "5ea95c62",
   "metadata": {},
   "outputs": [
    {
     "data": {
      "image/png": "[encoded data removed]",
      "text/plain": [
       "<Figure size 640x480 with 1 Axes>"
      ]
     },
     "metadata": {},
     "output_type": "display_data"
    }
   ],
   "source": [
    "# Checking the distribution of the Sentiment column\n",
    "\n",
    "plt.style.use(\"ggplot\")\n",
    "sns.countplot(data = data, x = data[\"sentiment\"])\n",
    "plt.title('Sentiment column distribution')\n",
    "plt.show()"
   ]
  },
  {
   "cell_type": "markdown",
   "id": "1d6708cc",
   "metadata": {},
   "source": [
    "**There is no class imbalance both class has an equal number of data.**"
   ]
  },
  {
   "cell_type": "code",
   "execution_count": 6,
   "id": "af723c5c",
   "metadata": {},
   "outputs": [
    {
     "data": {
      "text/plain": [
       "'So im not a big fan of Boll\\'s work but then again not many are. I enjoyed his movie Postal (maybe im the only one). Boll apparently bought the rights to use Far Cry long ago even before the game itself was even finsished. <br /><br />People who have enjoyed killing mercs and infiltrating secret research labs located on a tropical island should be warned, that this is not Far Cry... This is something Mr Boll have schemed together along with his legion of schmucks.. Feeling loneley on the set Mr Boll invites three of his countrymen to play with. These players go by the names of Til Schweiger, Udo Kier and Ralf Moeller.<br /><br />Three names that actually have made them selfs pretty big in the movie biz. So the tale goes like this, Jack Carver played by Til Schweiger (yes Carver is German all hail the bratwurst eating dudes!!) However I find that Tils acting in this movie is pretty badass.. People have complained about how he\\'s not really staying true to the whole Carver agenda but we only saw carver in a first person perspective so we don\\'t really know what he looked like when he was kicking a**.. <br /><br />However, the storyline in this film is beyond demented. We see the evil mad scientist Dr. Krieger played by Udo Kier, making Genetically-Mutated-soldiers or GMS as they are called. Performing his top-secret research on an island that reminds me of \"SPOILER\" Vancouver for some reason. Thats right no palm trees here. Instead we got some nice rich lumberjack-woods. We haven\\'t even gone FAR before I started to CRY (mehehe) I cannot go on any more.. If you wanna stay true to Bolls shenanigans then go and see this movie you will not be disappointed it delivers the true Boll experience, meaning most of it will suck.<br /><br />There are some things worth mentioning that would imply that Boll did a good work on some areas of the film such as some nice boat and fighting scenes. Until the whole cromed/albino GMS squad enters the scene and everything just makes me laugh.. The movie Far Cry reeks of scheisse (that\\'s poop for you simpletons) from a fa,r if you wanna take a wiff go ahead.. BTW Carver gets a very annoying sidekick who makes you wanna shoot him the first three minutes he\\'s on screen.'"
      ]
     },
     "execution_count": 6,
     "metadata": {},
     "output_type": "execute_result"
    }
   ],
   "source": [
    "# Checking one review entry\n",
    "data[\"review\"][12]"
   ]
  },
  {
   "cell_type": "markdown",
   "id": "3e739dfc",
   "metadata": {},
   "source": [
    "## Data Preprocessing"
   ]
  },
  {
   "cell_type": "code",
   "execution_count": 7,
   "id": "a0ac90b0",
   "metadata": {},
   "outputs": [],
   "source": [
    "from nltk.corpus import stopwords\n",
    "\n",
    "stopwords_list = set(stopwords.words('english'))\n",
    "\n",
    "TAG_RE = re.compile(r'<[^>]+>')\n",
    "\n",
    "def remove_tags(text):\n",
    "    \"\"\"\n",
    "    Uses regex to find anything inside <...> and remove it\n",
    "    \"\"\"\n",
    "    return TAG_RE.sub('', text)"
   ]
  },
  {
   "cell_type": "code",
   "execution_count": 8,
   "id": "7bb34a86",
   "metadata": {},
   "outputs": [],
   "source": [
    "class PreprocessData():\n",
    "    \"\"\"\n",
    "    This class is a pipeline for cleaning text. It removes html tags,\n",
    "    punctuations, numbers, single characters, multiple spaces, and stopwords.\n",
    "    \"\"\"\n",
    "    def __init__(self):\n",
    "        pass\n",
    "    \n",
    "    def preprocess_text(self, sentence):\n",
    "        sentence = sentence.lower()\n",
    "\n",
    "        # Remove html tags\n",
    "        sentence = remove_tags(sentence)\n",
    "\n",
    "        # Remove Punctuations & Numbers\n",
    "        sentence = re.sub('[^a-zA-Z]', ' ', sentence)\n",
    "\n",
    "        # Remove Single Characters\n",
    "        sentence = re.sub(r\"\\s+[a-zA-Z]\\s+\", ' ', sentence)\n",
    "\n",
    "        # Remove Multiple Spaces\n",
    "        sentence = re.sub(r'\\s+', ' ', sentence)\n",
    "        \n",
    "        # Remove Stopwords\n",
    "        pattern = re.compile(r'\\b(' + r'|'.join(stopwords_list) + r')\\b\\s*')\n",
    "        sentence = pattern.sub('', sentence)\n",
    "        \n",
    "        return sentence"
   ]
  },
  {
   "cell_type": "code",
   "execution_count": 9,
   "id": "5eec746f",
   "metadata": {},
   "outputs": [
    {
     "data": {
      "text/plain": [
       "'things worth mentioning would imply boll good work areas film nice boat fighting scenes '"
      ]
     },
     "execution_count": 9,
     "metadata": {},
     "output_type": "execute_result"
    }
   ],
   "source": [
    "# Preprocessing a sample sentence\n",
    "\n",
    "preprocess = PreprocessData()\n",
    "preprocess.preprocess_text(\"There are some things worth mentioning that would imply that Boll did a good work on some areas of the film such as some nice boat and fighting scenes.\")"
   ]
  },
  {
   "cell_type": "markdown",
   "id": "bded21f9",
   "metadata": {},
   "source": [
    "**Only important words like nouns, verbs, adjectives, and adverbs are kept. Stopwords like \"is\", \"the\", \"and\", etc. are removed.**"
   ]
  },
  {
   "cell_type": "code",
   "execution_count": 10,
   "id": "8e4432b4",
   "metadata": {},
   "outputs": [],
   "source": [
    "# Building the preprocessed dataset\n",
    "\n",
    "X = []\n",
    "sentences = list(data['review'])\n",
    "\n",
    "for sentence in sentences:\n",
    "    X.append(preprocess.preprocess_text(sentence))"
   ]
  },
  {
   "cell_type": "code",
   "execution_count": 11,
   "id": "6d86df63",
   "metadata": {},
   "outputs": [
    {
     "data": {
      "text/plain": [
       "array([1, 1, 1, 0, 1, 1, 1, 0, 0, 1])"
      ]
     },
     "execution_count": 11,
     "metadata": {},
     "output_type": "execute_result"
    }
   ],
   "source": [
    "# Target label mapping\n",
    "\n",
    "Y = data['sentiment']\n",
    "sentiment_map = {'negative' : 0, 'positive': 1}\n",
    "\n",
    "Y = np.array(Y.map(sentiment_map))\n",
    "Y[:10]"
   ]
  },
  {
   "cell_type": "markdown",
   "id": "58a0a7d2",
   "metadata": {},
   "source": [
    "**Now X and Y form the input (features) and output (labels) for training the RNN sentiment classifier.**"
   ]
  },
  {
   "cell_type": "markdown",
   "id": "d51febb5",
   "metadata": {},
   "source": [
    "## Train-Test split"
   ]
  },
  {
   "cell_type": "code",
   "execution_count": 12,
   "id": "5c1e051a",
   "metadata": {},
   "outputs": [],
   "source": [
    "from sklearn.model_selection import train_test_split\n",
    "\n",
    "X_train, X_test, Y_train, Y_test  = train_test_split(X, Y, test_size = 0.2, random_state = 42)"
   ]
  },
  {
   "cell_type": "markdown",
   "id": "1625df12",
   "metadata": {},
   "source": [
    "## Word Embeddings\n",
    "\n",
    "Raw text cannot be directly fed into a neural network, so words need to be converted into numerical representations. A simple approach is one-hot encoding, but it results in sparse vectors and does not capture semantic relationships between words.\n",
    "\n",
    "Instead, we use **word embeddings**, which are dense, low-dimensional vector representations of words. These embeddings capture semantic meaning — words with similar meanings end up having similar vector representations. For example:\n",
    "\n",
    "- \"good\", \"excellent\", and \"amazing\" will be close in the embedding space.\n",
    "\n",
    "- \"bad\", \"terrible\", and \"awful\" will form another cluster."
   ]
  },
  {
   "cell_type": "code",
   "execution_count": 13,
   "id": "94d5c1f8",
   "metadata": {},
   "outputs": [],
   "source": [
    "# Using tokenizer to build a vocabulary dictionary for mapping words → unique integers\n",
    "\n",
    "from tensorflow.keras.preprocessing.text import Tokenizer\n",
    "\n",
    "vocab_size = 10000\n",
    "tokenizer = Tokenizer(num_words = vocab_size, oov_token = \"<OOV>\")"
   ]
  },
  {
   "cell_type": "markdown",
   "id": "5b9952ab",
   "metadata": {},
   "source": [
    "**fit_on_texts()** scans through all training sentences in the given data\n",
    "\n",
    "It builds a vocabulary dictionary where:\n",
    "\n",
    "- The most frequent word gets the smallest integer (usually 1).\n",
    "\n",
    "- Each subsequent word gets a unique integer ID."
   ]
  },
  {
   "cell_type": "code",
   "execution_count": 14,
   "id": "5b4cf4b3",
   "metadata": {},
   "outputs": [],
   "source": [
    "tokenizer.fit_on_texts(X_train)"
   ]
  },
  {
   "cell_type": "code",
   "execution_count": 15,
   "id": "7b51bc96",
   "metadata": {},
   "outputs": [],
   "source": [
    "# Converting each training sentence into a sequence of integers using the word index built above.\n",
    "\n",
    "X_train = tokenizer.texts_to_sequences(X_train)\n",
    "X_test = tokenizer.texts_to_sequences(X_test)"
   ]
  },
  {
   "cell_type": "code",
   "execution_count": 16,
   "id": "aeca3330",
   "metadata": {},
   "outputs": [
    {
     "data": {
      "text/plain": [
       "92395"
      ]
     },
     "execution_count": 16,
     "metadata": {},
     "output_type": "execute_result"
    }
   ],
   "source": [
    "# Unique tokens from the training text\n",
    "\n",
    "vocabulary_length = len(tokenizer.word_index) + 1 # We add +1 because index 0 is reserved for padding tokens\n",
    "vocabulary_length"
   ]
  },
  {
   "cell_type": "markdown",
   "id": "90ac6e63",
   "metadata": {},
   "source": [
    "- After tokenization, each review is converted into a sequence of integers, the length of each review could be different.\n",
    "\n",
    "- Neural networks need inputs of the same size.\n",
    "\n",
    "- **pad_sequences** standardizes sequence length by either:\n",
    "    - `Padding`(adding zeros at the beginning or end of shorter sequences) or\n",
    "    \n",
    "    - `Truncating` (cutting longer sequences down to maxlen)."
   ]
  },
  {
   "cell_type": "code",
   "execution_count": 17,
   "id": "054dbde8",
   "metadata": {},
   "outputs": [],
   "source": [
    "# Padding\n",
    "\n",
    "from tensorflow.keras.preprocessing.sequence import pad_sequences\n",
    "\n",
    "maxlen = 250\n",
    "\n",
    "X_train = pad_sequences(X_train, maxlen = maxlen)\n",
    "X_test = pad_sequences(X_test, maxlen = maxlen)"
   ]
  },
  {
   "cell_type": "code",
   "execution_count": 18,
   "id": "0ec0fa98",
   "metadata": {},
   "outputs": [
    {
     "data": {
      "text/plain": [
       "array([[   0,    0,    0, ...,   97,  233, 3672],\n",
       "       [   0,    0,    0, ...,   23, 1546,   28],\n",
       "       [   0,    0,    0, ...,  198,  570,   10],\n",
       "       ...,\n",
       "       [   0,    0,    0, ...,  980, 1472,  461],\n",
       "       [   0,    0,    0, ...,   28, 6818,    1],\n",
       "       [   0,    0,    0, ...,  346,   14, 1809]], dtype=int32)"
      ]
     },
     "execution_count": 18,
     "metadata": {},
     "output_type": "execute_result"
    }
   ],
   "source": [
    "X_train"
   ]
  },
  {
   "cell_type": "markdown",
   "id": "dc7984c1",
   "metadata": {},
   "source": [
    "## Training Recurrent Neural Network (RNN)"
   ]
  },
  {
   "cell_type": "code",
   "execution_count": null,
   "id": "6dbe5b96",
   "metadata": {},
   "outputs": [],
   "source": [
    "from tensorflow.keras.models import Sequential\n",
    "from tensorflow.keras.layers import Embedding, SimpleRNN, Dense\n",
    "\n",
    "model = Sequential()"
   ]
  },
  {
   "cell_type": "code",
   "execution_count": 20,
   "id": "027fae44",
   "metadata": {},
   "outputs": [
    {
     "name": "stderr",
     "output_type": "stream",
     "text": [
      "/opt/anaconda3/envs/venv/lib/python3.12/site-packages/keras/src/layers/core/embedding.py:100: UserWarning: Do not pass an `input_shape`/`input_dim` argument to a layer. When using Sequential models, prefer using an `Input(shape)` object as the first layer in the model instead.\n",
      "  super().__init__(**kwargs)\n"
     ]
    }
   ],
   "source": [
    "# Embedding layer: Converts word indices (integers) into dense vector embeddings\n",
    "model.add(Embedding(10000, 128, input_shape=(maxlen,)))\n",
    "\n",
    "# SimpleRNN Layer: Processes the sequence of embeddings one step at a time\n",
    "model.add(SimpleRNN(128, activation = 'relu'))\n",
    "\n",
    "# Dense Layer: Final classification layer\n",
    "model.add(Dense(1, activation = 'sigmoid'))"
   ]
  },
  {
   "cell_type": "code",
   "execution_count": 21,
   "id": "de2220cc",
   "metadata": {},
   "outputs": [
    {
     "data": {
      "text/html": [
       "<pre style=\"white-space:pre;overflow-x:auto;line-height:normal;font-family:Menlo,'DejaVu Sans Mono',consolas,'Courier New',monospace\"><span style=\"font-weight: bold\">Model: \"sequential\"</span>\n",
       "</pre>\n"
      ],
      "text/plain": [
       "\u001b[1mModel: \"sequential\"\u001b[0m\n"
      ]
     },
     "metadata": {},
     "output_type": "display_data"
    },
    {
     "data": {
      "text/html": [
       "<pre style=\"white-space:pre;overflow-x:auto;line-height:normal;font-family:Menlo,'DejaVu Sans Mono',consolas,'Courier New',monospace\">┏━━━━━━━━━━━━━━━━━━━━━━━━━━━━━━━━━┳━━━━━━━━━━━━━━━━━━━━━━━━┳━━━━━━━━━━━━━━━┓\n",
       "┃<span style=\"font-weight: bold\"> Layer (type)                    </span>┃<span style=\"font-weight: bold\"> Output Shape           </span>┃<span style=\"font-weight: bold\">       Param # </span>┃\n",
       "┡━━━━━━━━━━━━━━━━━━━━━━━━━━━━━━━━━╇━━━━━━━━━━━━━━━━━━━━━━━━╇━━━━━━━━━━━━━━━┩\n",
       "│ embedding (<span style=\"color: #0087ff; text-decoration-color: #0087ff\">Embedding</span>)           │ (<span style=\"color: #00d7ff; text-decoration-color: #00d7ff\">None</span>, <span style=\"color: #00af00; text-decoration-color: #00af00\">250</span>, <span style=\"color: #00af00; text-decoration-color: #00af00\">128</span>)       │     <span style=\"color: #00af00; text-decoration-color: #00af00\">1,280,000</span> │\n",
       "├─────────────────────────────────┼────────────────────────┼───────────────┤\n",
       "│ simple_rnn (<span style=\"color: #0087ff; text-decoration-color: #0087ff\">SimpleRNN</span>)          │ (<span style=\"color: #00d7ff; text-decoration-color: #00d7ff\">None</span>, <span style=\"color: #00af00; text-decoration-color: #00af00\">128</span>)            │        <span style=\"color: #00af00; text-decoration-color: #00af00\">32,896</span> │\n",
       "├─────────────────────────────────┼────────────────────────┼───────────────┤\n",
       "│ dense (<span style=\"color: #0087ff; text-decoration-color: #0087ff\">Dense</span>)                   │ (<span style=\"color: #00d7ff; text-decoration-color: #00d7ff\">None</span>, <span style=\"color: #00af00; text-decoration-color: #00af00\">1</span>)              │           <span style=\"color: #00af00; text-decoration-color: #00af00\">129</span> │\n",
       "└─────────────────────────────────┴────────────────────────┴───────────────┘\n",
       "</pre>\n"
      ],
      "text/plain": [
       "┏━━━━━━━━━━━━━━━━━━━━━━━━━━━━━━━━━┳━━━━━━━━━━━━━━━━━━━━━━━━┳━━━━━━━━━━━━━━━┓\n",
       "┃\u001b[1m \u001b[0m\u001b[1mLayer (type)                   \u001b[0m\u001b[1m \u001b[0m┃\u001b[1m \u001b[0m\u001b[1mOutput Shape          \u001b[0m\u001b[1m \u001b[0m┃\u001b[1m \u001b[0m\u001b[1m      Param #\u001b[0m\u001b[1m \u001b[0m┃\n",
       "┡━━━━━━━━━━━━━━━━━━━━━━━━━━━━━━━━━╇━━━━━━━━━━━━━━━━━━━━━━━━╇━━━━━━━━━━━━━━━┩\n",
       "│ embedding (\u001b[38;5;33mEmbedding\u001b[0m)           │ (\u001b[38;5;45mNone\u001b[0m, \u001b[38;5;34m250\u001b[0m, \u001b[38;5;34m128\u001b[0m)       │     \u001b[38;5;34m1,280,000\u001b[0m │\n",
       "├─────────────────────────────────┼────────────────────────┼───────────────┤\n",
       "│ simple_rnn (\u001b[38;5;33mSimpleRNN\u001b[0m)          │ (\u001b[38;5;45mNone\u001b[0m, \u001b[38;5;34m128\u001b[0m)            │        \u001b[38;5;34m32,896\u001b[0m │\n",
       "├─────────────────────────────────┼────────────────────────┼───────────────┤\n",
       "│ dense (\u001b[38;5;33mDense\u001b[0m)                   │ (\u001b[38;5;45mNone\u001b[0m, \u001b[38;5;34m1\u001b[0m)              │           \u001b[38;5;34m129\u001b[0m │\n",
       "└─────────────────────────────────┴────────────────────────┴───────────────┘\n"
      ]
     },
     "metadata": {},
     "output_type": "display_data"
    },
    {
     "data": {
      "text/html": [
       "<pre style=\"white-space:pre;overflow-x:auto;line-height:normal;font-family:Menlo,'DejaVu Sans Mono',consolas,'Courier New',monospace\"><span style=\"font-weight: bold\"> Total params: </span><span style=\"color: #00af00; text-decoration-color: #00af00\">1,313,025</span> (5.01 MB)\n",
       "</pre>\n"
      ],
      "text/plain": [
       "\u001b[1m Total params: \u001b[0m\u001b[38;5;34m1,313,025\u001b[0m (5.01 MB)\n"
      ]
     },
     "metadata": {},
     "output_type": "display_data"
    },
    {
     "data": {
      "text/html": [
       "<pre style=\"white-space:pre;overflow-x:auto;line-height:normal;font-family:Menlo,'DejaVu Sans Mono',consolas,'Courier New',monospace\"><span style=\"font-weight: bold\"> Trainable params: </span><span style=\"color: #00af00; text-decoration-color: #00af00\">1,313,025</span> (5.01 MB)\n",
       "</pre>\n"
      ],
      "text/plain": [
       "\u001b[1m Trainable params: \u001b[0m\u001b[38;5;34m1,313,025\u001b[0m (5.01 MB)\n"
      ]
     },
     "metadata": {},
     "output_type": "display_data"
    },
    {
     "data": {
      "text/html": [
       "<pre style=\"white-space:pre;overflow-x:auto;line-height:normal;font-family:Menlo,'DejaVu Sans Mono',consolas,'Courier New',monospace\"><span style=\"font-weight: bold\"> Non-trainable params: </span><span style=\"color: #00af00; text-decoration-color: #00af00\">0</span> (0.00 B)\n",
       "</pre>\n"
      ],
      "text/plain": [
       "\u001b[1m Non-trainable params: \u001b[0m\u001b[38;5;34m0\u001b[0m (0.00 B)\n"
      ]
     },
     "metadata": {},
     "output_type": "display_data"
    }
   ],
   "source": [
    "model.summary()"
   ]
  },
  {
   "cell_type": "markdown",
   "id": "3c842577",
   "metadata": {},
   "source": [
    "**EarlyStopping** automatically stops training your model early when it sees that your validation performance isn’t improving anymore, helps prevent overfitting and wasted training time."
   ]
  },
  {
   "cell_type": "code",
   "execution_count": 22,
   "id": "9d811fae",
   "metadata": {},
   "outputs": [
    {
     "data": {
      "text/plain": [
       "<keras.src.callbacks.early_stopping.EarlyStopping at 0x3000783e0>"
      ]
     },
     "execution_count": 22,
     "metadata": {},
     "output_type": "execute_result"
    }
   ],
   "source": [
    "# Creating an instance of EarlyStopping Callback\n",
    "from tensorflow.keras.callbacks import EarlyStopping\n",
    "\n",
    "early_stopping = EarlyStopping(\n",
    "    monitor = 'val_loss',          # what metric to watch → here it's validation loss\n",
    "    patience = 5,                  # how many epochs to wait before stopping if no improvement\n",
    "    restore_best_weights = True    # after stopping, roll back to the best model weights\n",
    ")\n",
    "\n",
    "early_stopping"
   ]
  },
  {
   "cell_type": "code",
   "execution_count": 23,
   "id": "af497cd9",
   "metadata": {},
   "outputs": [],
   "source": [
    "model.compile(optimizer = 'adam', loss = 'binary_crossentropy', metrics = ['accuracy'])"
   ]
  },
  {
   "cell_type": "code",
   "execution_count": 24,
   "id": "5d47b53b",
   "metadata": {},
   "outputs": [
    {
     "name": "stdout",
     "output_type": "stream",
     "text": [
      "Epoch 1/20\n",
      "\u001b[1m1000/1000\u001b[0m \u001b[32m━━━━━━━━━━━━━━━━━━━━\u001b[0m\u001b[37m\u001b[0m \u001b[1m45s\u001b[0m 45ms/step - accuracy: 0.6529 - loss: 1.1915 - val_accuracy: 0.6440 - val_loss: 0.6269\n",
      "Epoch 2/20\n",
      "\u001b[1m1000/1000\u001b[0m \u001b[32m━━━━━━━━━━━━━━━━━━━━\u001b[0m\u001b[37m\u001b[0m \u001b[1m42s\u001b[0m 42ms/step - accuracy: 0.7887 - loss: 0.4556 - val_accuracy: 0.8583 - val_loss: 0.3336\n",
      "Epoch 3/20\n",
      "\u001b[1m1000/1000\u001b[0m \u001b[32m━━━━━━━━━━━━━━━━━━━━\u001b[0m\u001b[37m\u001b[0m \u001b[1m42s\u001b[0m 42ms/step - accuracy: 0.8909 - loss: 0.2754 - val_accuracy: 0.8618 - val_loss: 0.3314\n",
      "Epoch 4/20\n",
      "\u001b[1m1000/1000\u001b[0m \u001b[32m━━━━━━━━━━━━━━━━━━━━\u001b[0m\u001b[37m\u001b[0m \u001b[1m43s\u001b[0m 43ms/step - accuracy: 0.9214 - loss: 0.2009 - val_accuracy: 0.8620 - val_loss: 0.3748\n",
      "Epoch 5/20\n",
      "\u001b[1m1000/1000\u001b[0m \u001b[32m━━━━━━━━━━━━━━━━━━━━\u001b[0m\u001b[37m\u001b[0m \u001b[1m42s\u001b[0m 42ms/step - accuracy: 0.9423 - loss: 0.1553 - val_accuracy: 0.8466 - val_loss: 0.4557\n",
      "Epoch 6/20\n",
      "\u001b[1m1000/1000\u001b[0m \u001b[32m━━━━━━━━━━━━━━━━━━━━\u001b[0m\u001b[37m\u001b[0m \u001b[1m43s\u001b[0m 43ms/step - accuracy: 0.9544 - loss: 0.1218 - val_accuracy: 0.8583 - val_loss: 0.4393\n",
      "Epoch 7/20\n",
      "\u001b[1m1000/1000\u001b[0m \u001b[32m━━━━━━━━━━━━━━━━━━━━\u001b[0m\u001b[37m\u001b[0m \u001b[1m42s\u001b[0m 42ms/step - accuracy: 0.9189 - loss: 0.1957 - val_accuracy: 0.7418 - val_loss: 0.6578\n",
      "Epoch 8/20\n",
      "\u001b[1m1000/1000\u001b[0m \u001b[32m━━━━━━━━━━━━━━━━━━━━\u001b[0m\u001b[37m\u001b[0m \u001b[1m43s\u001b[0m 43ms/step - accuracy: 0.9570 - loss: 0.1151 - val_accuracy: 0.8520 - val_loss: 0.4724\n"
     ]
    }
   ],
   "source": [
    "# Training the model\n",
    "\n",
    "history = model.fit(X_train, Y_train, epochs = 20, batch_size = 32,\n",
    "          validation_split = 0.2,\n",
    "          callbacks = [early_stopping]\n",
    ")"
   ]
  },
  {
   "cell_type": "code",
   "execution_count": 25,
   "id": "86dcff3f",
   "metadata": {},
   "outputs": [
    {
     "name": "stdout",
     "output_type": "stream",
     "text": [
      "\u001b[1m313/313\u001b[0m \u001b[32m━━━━━━━━━━━━━━━━━━━━\u001b[0m\u001b[37m\u001b[0m \u001b[1m3s\u001b[0m 10ms/step - accuracy: 0.8658 - loss: 0.3234\n"
     ]
    }
   ],
   "source": [
    "result = model.evaluate(X_test, Y_test, verbose = 1)"
   ]
  },
  {
   "cell_type": "code",
   "execution_count": 26,
   "id": "bdbf4beb",
   "metadata": {},
   "outputs": [
    {
     "name": "stdout",
     "output_type": "stream",
     "text": [
      "Test Accuracy: 0.8658000230789185\n",
      "Test Loss: 0.3234105706214905\n"
     ]
    }
   ],
   "source": [
    "print(\"Test Accuracy:\", result[1])\n",
    "print(\"Test Loss:\", result[0])"
   ]
  },
  {
   "cell_type": "code",
   "execution_count": 27,
   "id": "00041d25",
   "metadata": {},
   "outputs": [
    {
     "data": {
      "image/png": "[encoded data removed]",
      "text/plain": [
       "<Figure size 1200x600 with 2 Axes>"
      ]
     },
     "metadata": {},
     "output_type": "display_data"
    }
   ],
   "source": [
    "# Number of epochs \n",
    "epochs = range(1, len(history.history['accuracy']) + 1)\n",
    "\n",
    "plt.figure(figsize=(12, 6))\n",
    "\n",
    "# Accuracy Plot \n",
    "plt.subplot(1, 2, 1)\n",
    "plt.plot(epochs, history.history[\"accuracy\"], color = 'blue', marker = 'o')\n",
    "plt.plot(epochs, history.history[\"val_accuracy\"], color = 'orange', marker = 'o')\n",
    "plt.title(\"Model Accuracy\", fontsize = 14)\n",
    "plt.xlabel(\"Epochs\", color = 'black')\n",
    "plt.ylabel(\"Accuracy\", color = 'black')\n",
    "plt.legend(['Train', 'Validation'], loc = \"lower right\")\n",
    "\n",
    "# Loss Plot \n",
    "plt.subplot(1, 2, 2)\n",
    "plt.plot(epochs, history.history[\"loss\"], color = 'purple', marker = 'o')\n",
    "plt.plot(epochs, history.history[\"val_loss\"], color = 'red', marker = 'o')\n",
    "plt.title(\"Model Loss\", fontsize = 14)\n",
    "plt.xlabel(\"Epochs\", color = 'black')\n",
    "plt.ylabel(\"Loss\", color = 'black')\n",
    "plt.legend(['Train', 'Validation'], loc = \"upper right\")\n",
    "\n",
    "plt.tight_layout()\n",
    "plt.show()\n"
   ]
  },
  {
   "cell_type": "markdown",
   "id": "24e6b245",
   "metadata": {},
   "source": [
    "## Why Long Short-Term Memory (LSTM) Networks?\n",
    "\n",
    "`Long Short-Term Memory (LSTM)` networks are an advanced type of Recurrent Neural Network (RNN) designed to overcome the vanishing and exploding gradient problems that limit standard RNNs. While RNNs are good at handling sequential data, they struggle to capture long-term dependencies in sequences. LSTMs solve this by introducing a more sophisticated architecture that includes memory cells and gating mechanisms (input, forget, and output gates).\n",
    "\n",
    "This allows LSTMs to selectively remember or forget information over longer time spans, making them particularly effective for natural language tasks where context may be spread across many words.\n",
    "\n",
    "For example:\n",
    "\n",
    "- \"The movie that I watched last week was amazing.\" → Positive sentiment\n",
    "\n",
    "- \"The movie that I watched last week was not amazing.\" → Negative sentiment\n",
    "\n",
    "Here, the key word \"not\" occurs far from \"amazing\", and a simple RNN might fail to connect the two. LSTMs can maintain the necessary context across the entire sequence, ensuring accurate interpretation of meaning.\n",
    "\n",
    "Compared to traditional RNNs, LSTMs are better suited for:\n",
    "\n",
    "- Sentiment analysis\n",
    "\n",
    "- Machine translation\n",
    "\n",
    "- Speech recognition\n",
    "\n",
    "- Any task involving long-term contextual dependencies"
   ]
  },
  {
   "cell_type": "markdown",
   "id": "575ef1aa",
   "metadata": {},
   "source": [
    "## Training Long-Short Term Memory RNN (LSTM RNN)"
   ]
  },
  {
   "cell_type": "code",
   "execution_count": 30,
   "id": "3ca7e060",
   "metadata": {},
   "outputs": [],
   "source": [
    "from tensorflow.keras.layers import LSTM, Input"
   ]
  },
  {
   "cell_type": "code",
   "execution_count": 32,
   "id": "ffc4c4a4",
   "metadata": {},
   "outputs": [],
   "source": [
    "# Training using LSTM\n",
    "lstm = Sequential()\n",
    "\n",
    "# Explicit input layer\n",
    "lstm.add(Input(shape = (maxlen,)))  \n",
    "\n",
    "# Embedding layer: Converts word indices (integers) into dense vector embeddings\n",
    "lstm.add(Embedding(10000, 128))\n",
    "\n",
    "# LSTM layer: Learns sequential dependencies in the embedded word vectors\n",
    "lstm.add(LSTM(128))\n",
    "\n",
    "# Output layer: A dense layer with sigmoid activation for binary classification\n",
    "lstm.add(Dense(1,activation = 'sigmoid'))"
   ]
  },
  {
   "cell_type": "code",
   "execution_count": 35,
   "id": "766f9797",
   "metadata": {},
   "outputs": [
    {
     "data": {
      "text/html": [
       "<pre style=\"white-space:pre;overflow-x:auto;line-height:normal;font-family:Menlo,'DejaVu Sans Mono',consolas,'Courier New',monospace\"><span style=\"font-weight: bold\">Model: \"sequential_4\"</span>\n",
       "</pre>\n"
      ],
      "text/plain": [
       "\u001b[1mModel: \"sequential_4\"\u001b[0m\n"
      ]
     },
     "metadata": {},
     "output_type": "display_data"
    },
    {
     "data": {
      "text/html": [
       "<pre style=\"white-space:pre;overflow-x:auto;line-height:normal;font-family:Menlo,'DejaVu Sans Mono',consolas,'Courier New',monospace\">┏━━━━━━━━━━━━━━━━━━━━━━━━━━━━━━━━━┳━━━━━━━━━━━━━━━━━━━━━━━━┳━━━━━━━━━━━━━━━┓\n",
       "┃<span style=\"font-weight: bold\"> Layer (type)                    </span>┃<span style=\"font-weight: bold\"> Output Shape           </span>┃<span style=\"font-weight: bold\">       Param # </span>┃\n",
       "┡━━━━━━━━━━━━━━━━━━━━━━━━━━━━━━━━━╇━━━━━━━━━━━━━━━━━━━━━━━━╇━━━━━━━━━━━━━━━┩\n",
       "│ embedding_2 (<span style=\"color: #0087ff; text-decoration-color: #0087ff\">Embedding</span>)         │ (<span style=\"color: #00d7ff; text-decoration-color: #00d7ff\">None</span>, <span style=\"color: #00af00; text-decoration-color: #00af00\">250</span>, <span style=\"color: #00af00; text-decoration-color: #00af00\">128</span>)       │     <span style=\"color: #00af00; text-decoration-color: #00af00\">1,280,000</span> │\n",
       "├─────────────────────────────────┼────────────────────────┼───────────────┤\n",
       "│ lstm_1 (<span style=\"color: #0087ff; text-decoration-color: #0087ff\">LSTM</span>)                   │ (<span style=\"color: #00d7ff; text-decoration-color: #00d7ff\">None</span>, <span style=\"color: #00af00; text-decoration-color: #00af00\">128</span>)            │       <span style=\"color: #00af00; text-decoration-color: #00af00\">131,584</span> │\n",
       "├─────────────────────────────────┼────────────────────────┼───────────────┤\n",
       "│ dense_2 (<span style=\"color: #0087ff; text-decoration-color: #0087ff\">Dense</span>)                 │ (<span style=\"color: #00d7ff; text-decoration-color: #00d7ff\">None</span>, <span style=\"color: #00af00; text-decoration-color: #00af00\">1</span>)              │           <span style=\"color: #00af00; text-decoration-color: #00af00\">129</span> │\n",
       "└─────────────────────────────────┴────────────────────────┴───────────────┘\n",
       "</pre>\n"
      ],
      "text/plain": [
       "┏━━━━━━━━━━━━━━━━━━━━━━━━━━━━━━━━━┳━━━━━━━━━━━━━━━━━━━━━━━━┳━━━━━━━━━━━━━━━┓\n",
       "┃\u001b[1m \u001b[0m\u001b[1mLayer (type)                   \u001b[0m\u001b[1m \u001b[0m┃\u001b[1m \u001b[0m\u001b[1mOutput Shape          \u001b[0m\u001b[1m \u001b[0m┃\u001b[1m \u001b[0m\u001b[1m      Param #\u001b[0m\u001b[1m \u001b[0m┃\n",
       "┡━━━━━━━━━━━━━━━━━━━━━━━━━━━━━━━━━╇━━━━━━━━━━━━━━━━━━━━━━━━╇━━━━━━━━━━━━━━━┩\n",
       "│ embedding_2 (\u001b[38;5;33mEmbedding\u001b[0m)         │ (\u001b[38;5;45mNone\u001b[0m, \u001b[38;5;34m250\u001b[0m, \u001b[38;5;34m128\u001b[0m)       │     \u001b[38;5;34m1,280,000\u001b[0m │\n",
       "├─────────────────────────────────┼────────────────────────┼───────────────┤\n",
       "│ lstm_1 (\u001b[38;5;33mLSTM\u001b[0m)                   │ (\u001b[38;5;45mNone\u001b[0m, \u001b[38;5;34m128\u001b[0m)            │       \u001b[38;5;34m131,584\u001b[0m │\n",
       "├─────────────────────────────────┼────────────────────────┼───────────────┤\n",
       "│ dense_2 (\u001b[38;5;33mDense\u001b[0m)                 │ (\u001b[38;5;45mNone\u001b[0m, \u001b[38;5;34m1\u001b[0m)              │           \u001b[38;5;34m129\u001b[0m │\n",
       "└─────────────────────────────────┴────────────────────────┴───────────────┘\n"
      ]
     },
     "metadata": {},
     "output_type": "display_data"
    },
    {
     "data": {
      "text/html": [
       "<pre style=\"white-space:pre;overflow-x:auto;line-height:normal;font-family:Menlo,'DejaVu Sans Mono',consolas,'Courier New',monospace\"><span style=\"font-weight: bold\"> Total params: </span><span style=\"color: #00af00; text-decoration-color: #00af00\">1,411,713</span> (5.39 MB)\n",
       "</pre>\n"
      ],
      "text/plain": [
       "\u001b[1m Total params: \u001b[0m\u001b[38;5;34m1,411,713\u001b[0m (5.39 MB)\n"
      ]
     },
     "metadata": {},
     "output_type": "display_data"
    },
    {
     "data": {
      "text/html": [
       "<pre style=\"white-space:pre;overflow-x:auto;line-height:normal;font-family:Menlo,'DejaVu Sans Mono',consolas,'Courier New',monospace\"><span style=\"font-weight: bold\"> Trainable params: </span><span style=\"color: #00af00; text-decoration-color: #00af00\">1,411,713</span> (5.39 MB)\n",
       "</pre>\n"
      ],
      "text/plain": [
       "\u001b[1m Trainable params: \u001b[0m\u001b[38;5;34m1,411,713\u001b[0m (5.39 MB)\n"
      ]
     },
     "metadata": {},
     "output_type": "display_data"
    },
    {
     "data": {
      "text/html": [
       "<pre style=\"white-space:pre;overflow-x:auto;line-height:normal;font-family:Menlo,'DejaVu Sans Mono',consolas,'Courier New',monospace\"><span style=\"font-weight: bold\"> Non-trainable params: </span><span style=\"color: #00af00; text-decoration-color: #00af00\">0</span> (0.00 B)\n",
       "</pre>\n"
      ],
      "text/plain": [
       "\u001b[1m Non-trainable params: \u001b[0m\u001b[38;5;34m0\u001b[0m (0.00 B)\n"
      ]
     },
     "metadata": {},
     "output_type": "display_data"
    }
   ],
   "source": [
    "lstm.summary()"
   ]
  },
  {
   "cell_type": "code",
   "execution_count": 34,
   "id": "df50d2c7",
   "metadata": {},
   "outputs": [],
   "source": [
    "lstm.compile(optimizer = 'adam', loss = 'binary_crossentropy', metrics = ['accuracy'])"
   ]
  },
  {
   "cell_type": "code",
   "execution_count": 36,
   "id": "fc73eaf3",
   "metadata": {},
   "outputs": [
    {
     "name": "stdout",
     "output_type": "stream",
     "text": [
      "Epoch 1/20\n",
      "\u001b[1m1000/1000\u001b[0m \u001b[32m━━━━━━━━━━━━━━━━━━━━\u001b[0m\u001b[37m\u001b[0m \u001b[1m139s\u001b[0m 138ms/step - accuracy: 0.8295 - loss: 0.3821 - val_accuracy: 0.8736 - val_loss: 0.3091\n",
      "Epoch 2/20\n",
      "\u001b[1m1000/1000\u001b[0m \u001b[32m━━━━━━━━━━━━━━━━━━━━\u001b[0m\u001b[37m\u001b[0m \u001b[1m138s\u001b[0m 138ms/step - accuracy: 0.9102 - loss: 0.2317 - val_accuracy: 0.8800 - val_loss: 0.2946\n",
      "Epoch 3/20\n",
      "\u001b[1m1000/1000\u001b[0m \u001b[32m━━━━━━━━━━━━━━━━━━━━\u001b[0m\u001b[37m\u001b[0m \u001b[1m131s\u001b[0m 131ms/step - accuracy: 0.9410 - loss: 0.1634 - val_accuracy: 0.8644 - val_loss: 0.3469\n",
      "Epoch 4/20\n",
      "\u001b[1m1000/1000\u001b[0m \u001b[32m━━━━━━━━━━━━━━━━━━━━\u001b[0m\u001b[37m\u001b[0m \u001b[1m129s\u001b[0m 129ms/step - accuracy: 0.9589 - loss: 0.1178 - val_accuracy: 0.8639 - val_loss: 0.4494\n",
      "Epoch 5/20\n",
      "\u001b[1m1000/1000\u001b[0m \u001b[32m━━━━━━━━━━━━━━━━━━━━\u001b[0m\u001b[37m\u001b[0m \u001b[1m129s\u001b[0m 129ms/step - accuracy: 0.9644 - loss: 0.1044 - val_accuracy: 0.8641 - val_loss: 0.3907\n",
      "Epoch 6/20\n",
      "\u001b[1m1000/1000\u001b[0m \u001b[32m━━━━━━━━━━━━━━━━━━━━\u001b[0m\u001b[37m\u001b[0m \u001b[1m130s\u001b[0m 130ms/step - accuracy: 0.9802 - loss: 0.0625 - val_accuracy: 0.8692 - val_loss: 0.4990\n",
      "Epoch 7/20\n",
      "\u001b[1m1000/1000\u001b[0m \u001b[32m━━━━━━━━━━━━━━━━━━━━\u001b[0m\u001b[37m\u001b[0m \u001b[1m123s\u001b[0m 123ms/step - accuracy: 0.9880 - loss: 0.0391 - val_accuracy: 0.8650 - val_loss: 0.5660\n"
     ]
    }
   ],
   "source": [
    "# Training the model\n",
    "\n",
    "history = lstm.fit(X_train, Y_train, epochs = 20, batch_size = 32,\n",
    "          validation_split = 0.2,\n",
    "          callbacks = [early_stopping]\n",
    ")"
   ]
  },
  {
   "cell_type": "code",
   "execution_count": 38,
   "id": "b56bdb08",
   "metadata": {},
   "outputs": [
    {
     "name": "stdout",
     "output_type": "stream",
     "text": [
      "\u001b[1m313/313\u001b[0m \u001b[32m━━━━━━━━━━━━━━━━━━━━\u001b[0m\u001b[37m\u001b[0m \u001b[1m14s\u001b[0m 45ms/step - accuracy: 0.8852 - loss: 0.2820\n"
     ]
    }
   ],
   "source": [
    "result = lstm.evaluate(X_test, Y_test, verbose = 1)"
   ]
  },
  {
   "cell_type": "code",
   "execution_count": 39,
   "id": "7ddf508b",
   "metadata": {},
   "outputs": [
    {
     "name": "stdout",
     "output_type": "stream",
     "text": [
      "Test Accuracy: 0.885200023651123\n",
      "Test Loss: 0.2820243537425995\n"
     ]
    }
   ],
   "source": [
    "print(\"Test Accuracy:\", result[1])\n",
    "print(\"Test Loss:\", result[0])"
   ]
  },
  {
   "cell_type": "code",
   "execution_count": 40,
   "id": "d3aef810",
   "metadata": {},
   "outputs": [
    {
     "data": {
      "image/png": "[encoded data removed]",
      "text/plain": [
       "<Figure size 1200x600 with 2 Axes>"
      ]
     },
     "metadata": {},
     "output_type": "display_data"
    }
   ],
   "source": [
    "# Number of epochs \n",
    "epochs = range(1, len(history.history['accuracy']) + 1)\n",
    "\n",
    "plt.figure(figsize=(12, 6))\n",
    "\n",
    "# Accuracy Plot \n",
    "plt.subplot(1, 2, 1)\n",
    "plt.plot(epochs, history.history[\"accuracy\"], color = 'blue', marker = 'o')\n",
    "plt.plot(epochs, history.history[\"val_accuracy\"], color = 'orange', marker = 'o')\n",
    "plt.title(\"Model Accuracy\", fontsize = 14)\n",
    "plt.xlabel(\"Epochs\", color = 'black')\n",
    "plt.ylabel(\"Accuracy\", color = 'black')\n",
    "plt.legend(['Train', 'Validation'], loc = \"lower right\")\n",
    "\n",
    "# Loss Plot \n",
    "plt.subplot(1, 2, 2)\n",
    "plt.plot(epochs, history.history[\"loss\"], color = 'purple', marker = 'o')\n",
    "plt.plot(epochs, history.history[\"val_loss\"], color = 'red', marker = 'o')\n",
    "plt.title(\"Model Loss\", fontsize = 14)\n",
    "plt.xlabel(\"Epochs\", color = 'black')\n",
    "plt.ylabel(\"Loss\", color = 'black')\n",
    "plt.legend(['Train', 'Validation'], loc = \"upper right\")\n",
    "\n",
    "plt.tight_layout()\n",
    "plt.show()\n"
   ]
  },
  {
   "cell_type": "markdown",
   "id": "fb46118d",
   "metadata": {},
   "source": [
    "**Using LSTM we achieved an accuracy of 88.5% on the test set, which is a significant improvement over the standard RNN model.**"
   ]
  },
  {
   "cell_type": "code",
   "execution_count": null,
   "id": "56ac86bc",
   "metadata": {},
   "outputs": [],
   "source": [
    "# Run this command to save this model locally for End to End Prediction\n",
    "\n",
    "lstm.save(\"lstm_sentiment_classifier.h5\")"
   ]
  }
 ],
 "metadata": {
  "kernelspec": {
   "display_name": "venv",
   "language": "python",
   "name": "python3"
  },
  "language_info": {
   "codemirror_mode": {
    "name": "ipython",
    "version": 3
   },
   "file_extension": ".py",
   "mimetype": "text/x-python",
   "name": "python",
   "nbconvert_exporter": "python",
   "pygments_lexer": "ipython3",
   "version": "3.12.11"
  }
 },
 "nbformat": 4,
 "nbformat_minor": 5
}
